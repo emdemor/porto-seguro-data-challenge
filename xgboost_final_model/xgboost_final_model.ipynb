{
 "cells": [
  {
   "cell_type": "code",
   "execution_count": 31,
   "id": "7e703a21",
   "metadata": {},
   "outputs": [],
   "source": [
    "import numpy as np\n",
    "import pandas as pd\n",
    "from multiprocessing import cpu_count\n",
    "\n",
    "\n",
    "import xgboost\n",
    "from xgboost import XGBClassifier"
   ]
  },
  {
   "cell_type": "code",
   "execution_count": 32,
   "id": "ef3d8ff5",
   "metadata": {},
   "outputs": [],
   "source": [
    "n_jobs = cpu_count()\n",
    "inp_path = \"data/\"\n",
    "sub_path = \"submissions/\"\n",
    "%run src/import_parameters.py\n",
    "TARGET = pd.read_csv(sub_path + \"submission_target_00.csv\")[\"predicted\"]"
   ]
  },
  {
   "cell_type": "markdown",
   "id": "bc606630",
   "metadata": {},
   "source": [
    "# Data Load"
   ]
  },
  {
   "cell_type": "code",
   "execution_count": 33,
   "id": "21da4e54",
   "metadata": {},
   "outputs": [],
   "source": [
    "metadata = pd.read_csv(inp_path + 'metadata.csv')\n",
    "test = pd.read_csv(inp_path + 'test.csv')\n",
    "train = pd.read_csv(inp_path + 'train.csv')\n",
    "train = train.sample(frac=1, random_state=0).reset_index(drop=True)  # shuffling dataset\n",
    "sub = pd.read_csv(inp_path + 'submission_sample.csv')\n",
    "feature_selection = pd.read_csv(\"data/f1_score_for_features.csv\")\n",
    "\n",
    "###########################\n",
    "\n",
    "# Excluindo colunas por terem muitos missings\n",
    "train = train.drop(columns = [\"var60\",\"var65\",\"var66\"],errors=\"ignore\")\n",
    "test = test.drop(columns = [\"var60\",\"var65\",\"var66\"],errors=\"ignore\")\n",
    "\n",
    "\n",
    "cols_to_drop = feature_selection[feature_selection[\"action\"]==\"drop\"][\"feature\"].to_list()\n",
    "train = train.drop(columns = cols_to_drop,errors=\"ignore\")\n",
    "test = test.drop(columns = cols_to_drop,errors=\"ignore\")\n",
    "\n",
    "# train = train.replace(-999,np.nan)\n",
    "# nans_count = train.isna().mean().to_dict()\n",
    "\n",
    "# cols_to_flag = []\n",
    "\n",
    "# for k in dict(filter(lambda x: x[1] > 0.10,nans_count.items())):\n",
    "#     if nans_count[k] > 0:\n",
    "#         #cols_to_flag.append(k)\n",
    "#         train[k+\"_nan_flag\"] = train[k].isna().astype(int)\n",
    "#         test[k+\"_nan_flag\"] = test[k].isna().astype(int)"
   ]
  },
  {
   "cell_type": "markdown",
   "id": "a55ade9c",
   "metadata": {},
   "source": [
    "# Importando Parâmetros"
   ]
  },
  {
   "cell_type": "code",
   "execution_count": 34,
   "id": "7fa6cc31",
   "metadata": {},
   "outputs": [],
   "source": [
    "from xtlearn.utils import load_pickle, dump_pickle\n",
    "\n",
    "# Hyperparamaters\n",
    "hyparams = yaml.safe_load(open(\"data/hyperparameters.yaml\", \"r\"))\n",
    "EARLY_STOPPING_ROUNDS = hyparams[\"EARLY_STOPPING_ROUNDS\"]\n",
    "EVAL_METRIC = hyparams[\"EVAL_METRIC\"]\n",
    "VERBOSE = hyparams[\"VERBOSE\"]\n",
    "RANDOM_STATE = hyparams[\"RANDOM_STATE\"]\n",
    "N_FOLDS = hyparams[\"N_FOLDS\"]\n",
    "SCORING = f1_score if hyparams[\"SCORING\"] == \"f1_score\" else None\n",
    "THRESHOLD = hyparams[\"THRESHOLD\"]\n",
    "\n",
    "# Parameters space\n",
    "parameters = yaml.safe_load(open(\"data/parameters.yaml\", \"r\"))\n",
    "space = [generate_space_dimension(x) for x in parameters]\n",
    "PARAMETER_NAMES = [elem.name for elem in space]\n",
    "\n",
    "# Parametros reais\n",
    "params_real = list(filter(lambda x: x['type']=='real',parameters))\n",
    "params = {x['parameter']:x['estimate']for x in params_real}\n",
    "limits = {x['parameter']:x['range']for x in params_real}\n",
    "steps = {x['parameter']:x['step']for x in params_real}\n",
    "space = [generate_space_dimension(x) for x in params_real]\n",
    "PARAMETER_NAMES = [elem.name for elem in space]\n",
    "\n",
    "# Parametros inteiros\n",
    "params_disc = list(filter(lambda x: x['type']!='real',parameters))\n",
    "DISC_PAR = { _['parameter']: _['estimate'] for _ in params_disc}\n",
    "\n",
    "# x0 = list(params.values())\n",
    "# y0 = 2\n",
    "\n",
    "# dump_pickle(space,\"data/best_space.pkl\")\n",
    "# dump_pickle(PARAMETER_NAMES,\"data/best_PARAMETER_NAMES.pkl\")\n",
    "# dump_pickle(x0,\"data/best_x0.pkl\")\n",
    "# dump_pickle(score,\"data/best_y0.pkl\")"
   ]
  },
  {
   "cell_type": "markdown",
   "id": "8069d6b9",
   "metadata": {},
   "source": [
    "# Rodando Modelo"
   ]
  },
  {
   "cell_type": "code",
   "execution_count": 35,
   "id": "e685cd9d",
   "metadata": {},
   "outputs": [
    {
     "name": "stdout",
     "output_type": "stream",
     "text": [
      "XGBClassifier(base_score=None, booster=None, colsample_bylevel=None,\n",
      "              colsample_bynode=0.8332353261601001,\n",
      "              colsample_bytree=0.33470182526412845, gamma=None, gpu_id=None,\n",
      "              importance_type='gain', interaction_constraints=None,\n",
      "              learning_rate=0.05332448042968835, max_delta_step=0, max_depth=6,\n",
      "              min_child_weight=0.36081712757499335, missing=nan,\n",
      "              monotone_constraints=None, n_estimators=100, n_jobs=16,\n",
      "              num_parallel_tree=2, random_state=42,\n",
      "              reg_alpha=0.9368252292759284, reg_lambda=0.9673847226568928,\n",
      "              scale_pos_weight=None, subsample=0.9359040571480106,\n",
      "              tree_method=None, validate_parameters=None, verbosity=None)\n",
      "-0.682572256275777\n"
     ]
    }
   ],
   "source": [
    "estimator = XGBClassifier(\n",
    "    n_jobs=n_jobs,\n",
    "    random_state=RANDOM_STATE,\n",
    "    **params,\n",
    "    **DISC_PAR\n",
    ")\n",
    "\n",
    "fit_params = {\n",
    "    \"early_stopping_rounds\": EARLY_STOPPING_ROUNDS,\n",
    "    \"eval_metric\": EVAL_METRIC,\n",
    "    \"verbose\": VERBOSE,\n",
    "}\n",
    "\n",
    "\n",
    "print(estimator)\n",
    "\n",
    "cv = cross_validate_score(\n",
    "    X=train.drop([\"y\",\"id\"], 1,errors=\"ignore\"),\n",
    "    y=train[\"y\"],\n",
    "    estimator=estimator,\n",
    "    fit_params=fit_params,\n",
    "    n_folds=N_FOLDS,\n",
    "    scoring=SCORING,\n",
    "    threshold=THRESHOLD,\n",
    "    random_state=RANDOM_STATE,\n",
    "    verbose=0,\n",
    ")\n",
    "print(cv)"
   ]
  },
  {
   "cell_type": "code",
   "execution_count": 44,
   "id": "c629d1c7",
   "metadata": {},
   "outputs": [
    {
     "name": "stdout",
     "output_type": "stream",
     "text": [
      "Correlação com a estimativa: 0.9857438688165551\n",
      "Correlação com a melhor submissão: 1.0\n"
     ]
    }
   ],
   "source": [
    "# Separando os dados de treinamento para essa fold\n",
    "train_data = train.copy()\n",
    "\n",
    "# Separando os dados de teste para esse fold\n",
    "test_data = test.copy()\n",
    "\n",
    "# Dados para o treinamento\n",
    "X_train = train_data.drop(columns=[\"fold\", \"y\",\"id\"],errors='ignore').values\n",
    "y_train = train_data[\"y\"].values\n",
    "\n",
    "# Features para predição\n",
    "X_test = test_data.drop(columns=[\"fold\", \"y\",\"id\"],errors='ignore').values\n",
    "\n",
    "# Melhor estimativa\n",
    "y_test = TARGET.values\n",
    "\n",
    "fit_params.pop('eval_set')\n",
    "fit_params[\"eval_set\"] = [(X_test, y_test)]\n",
    "\n",
    "estimator.fit(X_train, y_train, **fit_params)\n",
    "\n",
    "y_pred = (estimator.predict_proba(X_test)[:,1] > THRESHOLD).astype(int)\n",
    "\n",
    "# y_pred = predict(estimator, X_test, threshold=threshold).astype(int)\n",
    "\n",
    "corr = pd.DataFrame({0: TARGET, 1: y_pred}).corr()[0][1]\n",
    "\n",
    "print(\"Correlação com a estimativa:\",corr)\n",
    "\n",
    "pd.read_csv(sub_path + \"submission_target_00.csv\")[[\"id\"]].assign(predicted=y_pred).to_csv(\n",
    "    sub_path + \"submission_final.csv\", index=False\n",
    ")\n",
    "\n",
    "print(\"Correlação com a melhor submissão:\",np.corrcoef(\n",
    "pd.read_csv(sub_path + \"submission_best.csv\")['predicted'],\n",
    "pd.read_csv(sub_path + \"submission_final.csv\")['predicted'])[0][1])"
   ]
  },
  {
   "cell_type": "code",
   "execution_count": null,
   "id": "efca04f6",
   "metadata": {},
   "outputs": [],
   "source": []
  }
 ],
 "metadata": {
  "kernelspec": {
   "display_name": "Python 3 (ipykernel)",
   "language": "python",
   "name": "python3"
  },
  "language_info": {
   "codemirror_mode": {
    "name": "ipython",
    "version": 3
   },
   "file_extension": ".py",
   "mimetype": "text/x-python",
   "name": "python",
   "nbconvert_exporter": "python",
   "pygments_lexer": "ipython3",
   "version": "3.8.10"
  }
 },
 "nbformat": 4,
 "nbformat_minor": 5
}
